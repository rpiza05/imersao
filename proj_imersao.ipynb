{
  "nbformat": 4,
  "nbformat_minor": 0,
  "metadata": {
    "colab": {
      "provenance": [],
      "authorship_tag": "ABX9TyMZX+2PGJl10HAKUG1Wcoyb",
      "include_colab_link": true
    },
    "kernelspec": {
      "name": "python3",
      "display_name": "Python 3"
    },
    "language_info": {
      "name": "python"
    }
  },
  "cells": [
    {
      "cell_type": "markdown",
      "metadata": {
        "id": "view-in-github",
        "colab_type": "text"
      },
      "source": [
        "<a href=\"https://colab.research.google.com/github/rpiza05/imersao/blob/main/proj_imersao.ipynb\" target=\"_parent\"><img src=\"https://colab.research.google.com/assets/colab-badge.svg\" alt=\"Open In Colab\"/></a>"
      ]
    },
    {
      "cell_type": "code",
      "source": [
        "!pip install -q -U google-generativeai"
      ],
      "metadata": {
        "id": "v0vnBzwZ3Xeb"
      },
      "execution_count": 8,
      "outputs": []
    },
    {
      "cell_type": "code",
      "source": [
        "# Import the Python SDK\n",
        "import google.generativeai as genai\n",
        "# Used to securely store your API key\n",
        "from google.colab import userdata\n",
        "\n",
        "import textwrap\n",
        "from IPython.display import display\n",
        "from IPython.display import Markdown\n",
        "\n",
        "GOOGLE_API_KEY=userdata.get('GOOGLE_API_KEY')\n",
        "genai.configure(api_key=GOOGLE_API_KEY)\n",
        "model = genai.GenerativeModel(model_name=\"gemini-1.0-pro\")\n"
      ],
      "metadata": {
        "id": "Clm4aIke5csp"
      },
      "execution_count": 20,
      "outputs": []
    },
    {
      "cell_type": "code",
      "source": [
        "### codigo para corrigir largura do input que estava estourando\n",
        "from IPython.display import HTML\n",
        "def set_css():\n",
        "  display(HTML('''\n",
        "  <style>\n",
        "    input { width: 100px!important; }\n",
        "  </style>\n",
        "  '''))\n",
        "get_ipython().events.register('pre_run_cell', set_css)\n",
        "### fim codigo correcao\n",
        "\n",
        "def jogo_da_forca():\n",
        "\n",
        "  #função para AI sugerir uma palavra\n",
        "  def palavra_aleatoria():\n",
        "      prompt = 'sugira uma palavra em portugues em maiusculas que não tenha acentuação e tenha no mínimo 5 e no máximo 10 letras'\n",
        "      result = model.generate_content(prompt)\n",
        "      palavra_aleatoria = result.text\n",
        "      return palavra_aleatoria\n",
        "\n",
        "  #função para localizar as posições de uma letra em uma palavra\n",
        "  def localizar(texto,palavra):\n",
        "      posicoes = []\n",
        "      for i in range(0,len(texto)):\n",
        "          if texto[i] == palavra:\n",
        "              posicoes.append(i)\n",
        "      return posicoes\n",
        "\n",
        "  def to_markdown(text):\n",
        "    #text = text.replace('•', '  *')\n",
        "    return Markdown(text)\n",
        "\n",
        "  display(to_markdown('**-----  JOGO DA FORCA -----**'))\n",
        "  display(to_markdown('**-- ADIVINHE A PALAVRA --**\\n'))\n",
        "\n",
        "  palavra = palavra_aleatoria()\n",
        "  print(f'DICA: A palavra tem {len(palavra)} letras\\n')\n",
        "\n",
        "  chances = 10\n",
        "  pal_secreta = list('_' * len(palavra))\n",
        "  while chances > 0:\n",
        "      letra_digitada = input('Digite somente uma letra: ').upper()\n",
        "      if letra_digitada == 'FIM':\n",
        "          print('FIM')\n",
        "          break\n",
        "      if letra_digitada in palavra:\n",
        "          print(f'A letra {letra_digitada} está contida na palavra')\n",
        "          posicao = localizar(palavra,letra_digitada)\n",
        "          for i in posicao:\n",
        "              pal_secreta[i] = letra_digitada\n",
        "          ps = ''.join(pal_secreta)\n",
        "          pshow = ' '.join(pal_secreta)\n",
        "          display(to_markdown(f'**{pshow}**\\n'))\n",
        "\n",
        "          if ps == palavra:\n",
        "              print('\\n')\n",
        "              display(to_markdown(f'Parabéns!!\\nA Palavra correta é **{palavra}**!'))\n",
        "              print('--')\n",
        "              break\n",
        "      else:\n",
        "          chances -=1\n",
        "          print(f'A letra {letra_digitada} NÃO está contida na palavra')\n",
        "          pshow = ' '.join(pal_secreta)\n",
        "          display(to_markdown(f'**{pshow}**\\n'))\n",
        "          if chances == 0:\n",
        "            print('\\n')\n",
        "            print('Que pena, você errou!')\n",
        "            display(to_markdown(f'A palavra correta é **{palavra}!**'))\n",
        "            print('--')\n",
        "\n",
        "            break\n",
        "          else:\n",
        "            print(f'Você ainda tem mais {chances} chances\\n')\n",
        "\n",
        "\n",
        "jogo_da_forca()"
      ],
      "metadata": {
        "colab": {
          "base_uri": "https://localhost:8080/",
          "height": 1000
        },
        "id": "thla3Q0e6i6b",
        "outputId": "e7f332c5-cd2e-417e-9955-6884b1d11e33"
      },
      "execution_count": 36,
      "outputs": [
        {
          "output_type": "display_data",
          "data": {
            "text/plain": [
              "<IPython.core.display.HTML object>"
            ],
            "text/html": [
              "\n",
              "  <style>\n",
              "    pre {\n",
              "        white-space: pre-wrap;\n",
              "    }\n",
              "  </style>\n",
              "  "
            ]
          },
          "metadata": {}
        },
        {
          "output_type": "display_data",
          "data": {
            "text/plain": [
              "<IPython.core.display.HTML object>"
            ],
            "text/html": [
              "\n",
              "  <style>\n",
              "    input_raw {\n",
              "        width: 100px!important;\n",
              "    }\n",
              "  </style>\n",
              "  "
            ]
          },
          "metadata": {}
        },
        {
          "output_type": "display_data",
          "data": {
            "text/plain": [
              "<IPython.core.display.HTML object>"
            ],
            "text/html": [
              "\n",
              "  <style>\n",
              "    input.raw_input { width: 100px!important; }\n",
              "  </style>\n",
              "  "
            ]
          },
          "metadata": {}
        },
        {
          "output_type": "display_data",
          "data": {
            "text/plain": [
              "<IPython.core.display.HTML object>"
            ],
            "text/html": [
              "\n",
              "  <style>\n",
              "    input { width: 100px!important; }\n",
              "  </style>\n",
              "  "
            ]
          },
          "metadata": {}
        },
        {
          "output_type": "display_data",
          "data": {
            "text/plain": [
              "<IPython.core.display.HTML object>"
            ],
            "text/html": [
              "\n",
              "  <style>\n",
              "    input { width: 100px!important; }\n",
              "  </style>\n",
              "  "
            ]
          },
          "metadata": {}
        },
        {
          "output_type": "display_data",
          "data": {
            "text/plain": [
              "<IPython.core.display.HTML object>"
            ],
            "text/html": [
              "\n",
              "  <style>\n",
              "    input { width: 100px!important; }\n",
              "  </style>\n",
              "  "
            ]
          },
          "metadata": {}
        },
        {
          "output_type": "display_data",
          "data": {
            "text/plain": [
              "<IPython.core.display.HTML object>"
            ],
            "text/html": [
              "\n",
              "  <style>\n",
              "    input { width: 100px!important; }\n",
              "  </style>\n",
              "  "
            ]
          },
          "metadata": {}
        },
        {
          "output_type": "display_data",
          "data": {
            "text/plain": [
              "<IPython.core.display.Markdown object>"
            ],
            "text/markdown": "**-----  JOGO DA FORCA -----**"
          },
          "metadata": {}
        },
        {
          "output_type": "display_data",
          "data": {
            "text/plain": [
              "<IPython.core.display.Markdown object>"
            ],
            "text/markdown": "**-- ADIVINHE A PALAVRA --**\n"
          },
          "metadata": {}
        },
        {
          "output_type": "stream",
          "name": "stdout",
          "text": [
            "DICA: A palavra tem 5 letras\n",
            "\n",
            "Digite somente uma letra: a\n",
            "A letra A NÃO está contida na palavra\n"
          ]
        },
        {
          "output_type": "display_data",
          "data": {
            "text/plain": [
              "<IPython.core.display.Markdown object>"
            ],
            "text/markdown": "**_ _ _ _ _**\n"
          },
          "metadata": {}
        },
        {
          "output_type": "stream",
          "name": "stdout",
          "text": [
            "Você ainda tem mais 9 chances\n",
            "\n",
            "Digite somente uma letra: a\n",
            "A letra A NÃO está contida na palavra\n"
          ]
        },
        {
          "output_type": "display_data",
          "data": {
            "text/plain": [
              "<IPython.core.display.Markdown object>"
            ],
            "text/markdown": "**_ _ _ _ _**\n"
          },
          "metadata": {}
        },
        {
          "output_type": "stream",
          "name": "stdout",
          "text": [
            "Você ainda tem mais 8 chances\n",
            "\n",
            "Digite somente uma letra: a\n",
            "A letra A NÃO está contida na palavra\n"
          ]
        },
        {
          "output_type": "display_data",
          "data": {
            "text/plain": [
              "<IPython.core.display.Markdown object>"
            ],
            "text/markdown": "**_ _ _ _ _**\n"
          },
          "metadata": {}
        },
        {
          "output_type": "stream",
          "name": "stdout",
          "text": [
            "Você ainda tem mais 7 chances\n",
            "\n",
            "Digite somente uma letra: a\n",
            "A letra A NÃO está contida na palavra\n"
          ]
        },
        {
          "output_type": "display_data",
          "data": {
            "text/plain": [
              "<IPython.core.display.Markdown object>"
            ],
            "text/markdown": "**_ _ _ _ _**\n"
          },
          "metadata": {}
        },
        {
          "output_type": "stream",
          "name": "stdout",
          "text": [
            "Você ainda tem mais 6 chances\n",
            "\n",
            "Digite somente uma letra: a\n",
            "A letra A NÃO está contida na palavra\n"
          ]
        },
        {
          "output_type": "display_data",
          "data": {
            "text/plain": [
              "<IPython.core.display.Markdown object>"
            ],
            "text/markdown": "**_ _ _ _ _**\n"
          },
          "metadata": {}
        },
        {
          "output_type": "stream",
          "name": "stdout",
          "text": [
            "Você ainda tem mais 5 chances\n",
            "\n",
            "Digite somente uma letra: a\n",
            "A letra A NÃO está contida na palavra\n"
          ]
        },
        {
          "output_type": "display_data",
          "data": {
            "text/plain": [
              "<IPython.core.display.Markdown object>"
            ],
            "text/markdown": "**_ _ _ _ _**\n"
          },
          "metadata": {}
        },
        {
          "output_type": "stream",
          "name": "stdout",
          "text": [
            "Você ainda tem mais 4 chances\n",
            "\n",
            "Digite somente uma letra: a\n",
            "A letra A NÃO está contida na palavra\n"
          ]
        },
        {
          "output_type": "display_data",
          "data": {
            "text/plain": [
              "<IPython.core.display.Markdown object>"
            ],
            "text/markdown": "**_ _ _ _ _**\n"
          },
          "metadata": {}
        },
        {
          "output_type": "stream",
          "name": "stdout",
          "text": [
            "Você ainda tem mais 3 chances\n",
            "\n",
            "Digite somente uma letra: a\n",
            "A letra A NÃO está contida na palavra\n"
          ]
        },
        {
          "output_type": "display_data",
          "data": {
            "text/plain": [
              "<IPython.core.display.Markdown object>"
            ],
            "text/markdown": "**_ _ _ _ _**\n"
          },
          "metadata": {}
        },
        {
          "output_type": "stream",
          "name": "stdout",
          "text": [
            "Você ainda tem mais 2 chances\n",
            "\n",
            "Digite somente uma letra: a\n",
            "A letra A NÃO está contida na palavra\n"
          ]
        },
        {
          "output_type": "display_data",
          "data": {
            "text/plain": [
              "<IPython.core.display.Markdown object>"
            ],
            "text/markdown": "**_ _ _ _ _**\n"
          },
          "metadata": {}
        },
        {
          "output_type": "stream",
          "name": "stdout",
          "text": [
            "Você ainda tem mais 1 chances\n",
            "\n",
            "Digite somente uma letra: a\n",
            "A letra A NÃO está contida na palavra\n"
          ]
        },
        {
          "output_type": "display_data",
          "data": {
            "text/plain": [
              "<IPython.core.display.Markdown object>"
            ],
            "text/markdown": "**_ _ _ _ _**\n"
          },
          "metadata": {}
        },
        {
          "output_type": "stream",
          "name": "stdout",
          "text": [
            "\n",
            "\n",
            "Que pena, você errou!\n"
          ]
        },
        {
          "output_type": "display_data",
          "data": {
            "text/plain": [
              "<IPython.core.display.Markdown object>"
            ],
            "text/markdown": "A palavra correta é **GLOBO!**"
          },
          "metadata": {}
        },
        {
          "output_type": "stream",
          "name": "stdout",
          "text": [
            "--\n"
          ]
        }
      ]
    }
  ]
}