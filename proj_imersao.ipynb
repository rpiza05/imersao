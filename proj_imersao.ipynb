{
  "nbformat": 4,
  "nbformat_minor": 0,
  "metadata": {
    "colab": {
      "provenance": [],
      "authorship_tag": "ABX9TyNiJTbSHvnBh6JZvHAjwVKO",
      "include_colab_link": true
    },
    "kernelspec": {
      "name": "python3",
      "display_name": "Python 3"
    },
    "language_info": {
      "name": "python"
    }
  },
  "cells": [
    {
      "cell_type": "markdown",
      "metadata": {
        "id": "view-in-github",
        "colab_type": "text"
      },
      "source": [
        "<a href=\"https://colab.research.google.com/github/rpiza05/imersao/blob/main/proj_imersao.ipynb\" target=\"_parent\"><img src=\"https://colab.research.google.com/assets/colab-badge.svg\" alt=\"Open In Colab\"/></a>"
      ]
    },
    {
      "cell_type": "code",
      "source": [
        "!pip install -q -U google-generativeai"
      ],
      "metadata": {
        "id": "v0vnBzwZ3Xeb"
      },
      "execution_count": 36,
      "outputs": []
    },
    {
      "cell_type": "code",
      "source": [
        "# Import the Python SDK\n",
        "import google.generativeai as genai\n",
        "# Used to securely store your API key\n",
        "from google.colab import userdata\n",
        "\n",
        "GOOGLE_API_KEY=userdata.get('GOOGLE_API_KEY')\n",
        "genai.configure(api_key=GOOGLE_API_KEY)\n",
        "model = genai.GenerativeModel(model_name=\"gemini-1.0-pro\")\n",
        "\n",
        "def jogo_da_forca():\n",
        "  print('----  JOGO DA FORCA ----')\n",
        "  print('-- ADIVINHE A PALAVRA --\\n')\n",
        "\n",
        "  #função para AI sugerir uma palavra\n",
        "  def palavra_aleatoria():\n",
        "      prompt = 'sugira uma palavra em portugues em maiusculas que não tenha acentuação e tenha entre 5 e 10 letras';\n",
        "      result = model.generate_content(prompt)\n",
        "      palavra_aleatoria = result.text\n",
        "      return palavra_aleatoria\n",
        "\n",
        "  #função para localizar as posições de uma letra em uma palavra\n",
        "  def localizar(texto,palavra):\n",
        "      posicoes = []\n",
        "      for i in range(0,len(texto)):\n",
        "          if texto[i] == palavra:\n",
        "              posicoes.append(i)\n",
        "      return posicoes\n",
        "\n",
        "  palavra = palavra_aleatoria()\n",
        "  print(f'DICA: A palavra tem {len(palavra)} letras')\n",
        "  chances = 10\n",
        "  pal_secreta = list('_' * len(palavra))\n",
        "  while chances > 0:\n",
        "      letra_digitada = input('Digite somente uma letra: ').upper()\n",
        "      if letra_digitada in palavra:\n",
        "          print(f'A letra {letra_digitada} está contida na palavra')\n",
        "          posicao = localizar(palavra,letra_digitada)\n",
        "          for i in posicao:\n",
        "              pal_secreta[i] = letra_digitada\n",
        "          ps = ''.join(pal_secreta)\n",
        "          print(' '.join(pal_secreta))\n",
        "          print('')\n",
        "\n",
        "          if ps == palavra:\n",
        "              print('--')\n",
        "              print(f'Parabéns!!\\nA Palavra correta é {palavra}! ')\n",
        "              print('--')\n",
        "              break\n",
        "      else:\n",
        "          chances -=1\n",
        "          print(f'A letra {letra_digitada} NÃO está contida na palavra')\n",
        "          print(' '.join(pal_secreta))\n",
        "\n",
        "          if chances == 0:\n",
        "            print('.')\n",
        "            print('Que pena, você errou!')\n",
        "            print(f'A palavra correta é {palavra}!')\n",
        "            print('--')\n",
        "\n",
        "            break\n",
        "          else:\n",
        "            print(f'Você ainda tem mais {chances} chances')\n",
        "            print('')\n",
        "\n",
        "\n",
        "jogo_da_forca()"
      ],
      "metadata": {
        "colab": {
          "base_uri": "https://localhost:8080/",
          "height": 919
        },
        "id": "thla3Q0e6i6b",
        "outputId": "eccf719c-9e29-428e-a142-956c1336516d"
      },
      "execution_count": 38,
      "outputs": [
        {
          "output_type": "stream",
          "name": "stdout",
          "text": [
            "----  JOGO DA FORCA ----\n",
            "-- ADIVINHE A PALAVRA --\n",
            "\n",
            "DICA: A palavra tem 6 letras\n",
            "Digite somente uma letra: a\n",
            "A letra A está contida na palavra\n",
            "_ _ _ _ _ A\n",
            "\n",
            "Digite somente uma letra: e\n",
            "A letra E está contida na palavra\n",
            "_ _ E _ _ A\n",
            "\n",
            "Digite somente uma letra: i\n",
            "A letra I NÃO está contida na palavra\n",
            "_ _ E _ _ A\n",
            "Você ainda tem mais 9 chances\n",
            "\n",
            "Digite somente uma letra: o\n",
            "A letra O está contida na palavra\n",
            "O _ E _ _ A\n",
            "\n",
            "Digite somente uma letra: u\n",
            "A letra U NÃO está contida na palavra\n",
            "O _ E _ _ A\n",
            "Você ainda tem mais 8 chances\n",
            "\n",
            "Digite somente uma letra: b\n",
            "A letra B NÃO está contida na palavra\n",
            "O _ E _ _ A\n",
            "Você ainda tem mais 7 chances\n",
            "\n",
            "Digite somente uma letra: l\n",
            "A letra L NÃO está contida na palavra\n",
            "O _ E _ _ A\n",
            "Você ainda tem mais 6 chances\n",
            "\n",
            "Digite somente uma letra: r\n",
            "A letra R está contida na palavra\n",
            "O _ E R _ A\n",
            "\n",
            "Digite somente uma letra: f\n",
            "A letra F está contida na palavra\n",
            "O F E R _ A\n",
            "\n",
            "Digite somente uma letra: t\n",
            "A letra T está contida na palavra\n",
            "O F E R T A\n",
            "\n",
            "--\n",
            "Parabéns!!\n",
            "A Palavra correta é OFERTA! \n",
            "--\n"
          ]
        }
      ]
    }
  ]
}